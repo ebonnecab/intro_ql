{
 "cells": [
  {
   "cell_type": "markdown",
   "metadata": {},
   "source": [
    "# Covariance Matrix HW"
   ]
  },
  {
   "cell_type": "code",
   "execution_count": 26,
   "metadata": {},
   "outputs": [],
   "source": [
    "import numpy as np\n",
    "import scipy as sp\n",
    "import math"
   ]
  },
  {
   "cell_type": "markdown",
   "metadata": {},
   "source": [
    "## Python Function"
   ]
  },
  {
   "cell_type": "code",
   "execution_count": 27,
   "metadata": {},
   "outputs": [
    {
     "data": {
      "text/plain": [
       "'\\nBASIC FORMULA: cov(X,Y) = 1/n-1 * (sum(x[i] - avg(x)(y[i] - avg(y)) \\nINPUT: 2 lists\\n    - eventually modify to accomodate 3 ARRAYS\\nOUTPUT: covariance between 6 pairs of random variables:  (𝑋,𝑌),(𝑋,𝑍),(𝑌,𝑍),(𝑋,𝑋),(𝑌,𝑌),𝑎𝑛𝑑(𝑍,𝑍)\\n\\nX = [1, 1, 1, 1]\\nY = [1, 2, 3, 4]\\nZ = [1, 1, 2, 3]\\n\\n'"
      ]
     },
     "execution_count": 27,
     "metadata": {},
     "output_type": "execute_result"
    }
   ],
   "source": [
    "'''\n",
    "BASIC FORMULA: cov(X,Y) = 1/n-1 * (sum(x[i] - avg(x)(y[i] - avg(y)) \n",
    "INPUT: 2 lists\n",
    "    - eventually modify to accomodate 3 ARRAYS\n",
    "OUTPUT: covariance between 6 pairs of random variables:  (𝑋,𝑌),(𝑋,𝑍),(𝑌,𝑍),(𝑋,𝑋),(𝑌,𝑌),𝑎𝑛𝑑(𝑍,𝑍)\n",
    "\n",
    "X = [1, 1, 1, 1]\n",
    "Y = [1, 2, 3, 4]\n",
    "Z = [1, 1, 2, 3]\n",
    "\n",
    "'''"
   ]
  },
  {
   "cell_type": "code",
   "execution_count": 28,
   "metadata": {},
   "outputs": [],
   "source": [
    "def get_covariance(a,b):\n",
    "    N = len(a)\n",
    "    mean_a = np.mean(a)\n",
    "    mean_b = np.mean(b)\n",
    "    num = [(i - mean_a) * (j- mean_b) for i, j in zip(a, b)]\n",
    "    cov = np.sum(num)/(N-1)\n",
    "    return cov\n",
    "    "
   ]
  },
  {
   "cell_type": "code",
   "execution_count": 29,
   "metadata": {},
   "outputs": [
    {
     "name": "stdout",
     "output_type": "stream",
     "text": [
      "1.1666666666666667\n"
     ]
    }
   ],
   "source": [
    "test = get_covariance([1, 2, 3, 4], [1, 1, 2, 3])\n",
    "print(test)"
   ]
  },
  {
   "cell_type": "code",
   "execution_count": 69,
   "metadata": {},
   "outputs": [],
   "source": [
    "'''\n",
    "input = columns represented as a matrix\n",
    "[[x], [y], [z]]\n",
    "\n",
    "iterate over list\n",
    "stop at first inner list\n",
    "get covariance for i and i+=1\n",
    "store that value\n",
    "i+=1\n",
    "continue until you reach the end \n",
    "'''\n",
    "def covariance_matrix(data):\n",
    "    cov_list = []\n",
    "      # calculate covariance matrix of the data\n",
    "    for i in range(0, len(data)):\n",
    "        for j in range(0, len(data)):\n",
    "            cov = get_covariance(data[i], data[j])\n",
    "            cov_list.append([cov])\n",
    "            j+=1\n",
    "        i+=1            \n",
    "    return np.array(cov_list).T"
   ]
  },
  {
   "cell_type": "code",
   "execution_count": 70,
   "metadata": {},
   "outputs": [
    {
     "name": "stdout",
     "output_type": "stream",
     "text": [
      "[[0.         0.         0.         0.         1.66666667 1.16666667\n",
      "  0.         1.16666667 0.91666667]]\n"
     ]
    }
   ],
   "source": [
    "X = [1, 1, 1, 1]\n",
    "Y = [1, 2, 3, 4]\n",
    "Z = [1, 1, 2, 3]\n",
    "matrix = [[1, 1, 1, 1], [1, 2, 3, 4], [1, 1, 2, 3]]\n",
    "test = covariance_matrix(matrix)\n",
    "print(test)"
   ]
  },
  {
   "cell_type": "code",
   "execution_count": 40,
   "metadata": {},
   "outputs": [],
   "source": [
    "import numpy as np\n",
    "\n",
    "def cov_matrix_calculation(data):\n",
    "    # calculate covariance matrix of the data\n",
    "    cov_matx = np.cov(data)\n",
    "    return cov_matx"
   ]
  },
  {
   "cell_type": "code",
   "execution_count": 20,
   "metadata": {},
   "outputs": [
    {
     "name": "stdout",
     "output_type": "stream",
     "text": [
      "[[0.         0.         0.        ]\n",
      " [0.         1.66666667 1.16666667]\n",
      " [0.         1.16666667 0.91666667]]\n"
     ]
    }
   ],
   "source": [
    "test_2 = cov_matrix_calculation(matrix)\n",
    "print(test_2)"
   ]
  }
 ],
 "metadata": {
  "kernelspec": {
   "display_name": "Python 3",
   "language": "python",
   "name": "python3"
  },
  "language_info": {
   "codemirror_mode": {
    "name": "ipython",
    "version": 3
   },
   "file_extension": ".py",
   "mimetype": "text/x-python",
   "name": "python",
   "nbconvert_exporter": "python",
   "pygments_lexer": "ipython3",
   "version": "3.7.3"
  }
 },
 "nbformat": 4,
 "nbformat_minor": 4
}
