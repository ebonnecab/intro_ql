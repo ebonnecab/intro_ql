{
 "cells": [
  {
   "cell_type": "code",
   "execution_count": 22,
   "metadata": {},
   "outputs": [],
   "source": [
    "'''base salary = 115,000\n",
    "    rate = 0.3 \n",
    "    years = 10'''\n",
    "\n",
    "def new_salary(base, rate, years):\n",
    "    #the base salary amount increases by 0.3 once a year 10x\n",
    "    salary = base\n",
    "    for i in range(1, years+1):\n",
    "        salary = salary + (salary*rate)\n",
    "    return salary"
   ]
  },
  {
   "cell_type": "code",
   "execution_count": 23,
   "metadata": {},
   "outputs": [
    {
     "name": "stdout",
     "output_type": "stream",
     "text": [
      "154550.38362457405\n"
     ]
    }
   ],
   "source": [
    "test = new_salary(115000, 0.03, 10)\n",
    "print(test)"
   ]
  },
  {
   "cell_type": "code",
   "execution_count": 41,
   "metadata": {},
   "outputs": [],
   "source": [
    "def get_exp_val(ls):\n",
    "    outcome = 0\n",
    "    for i in range(1, len(ls)+1):\n",
    "        prob = 1/len(ls)\n",
    "        outcome += i * prob\n",
    "    return outcome"
   ]
  },
  {
   "cell_type": "code",
   "execution_count": 42,
   "metadata": {},
   "outputs": [
    {
     "name": "stdout",
     "output_type": "stream",
     "text": [
      "3.5\n"
     ]
    }
   ],
   "source": [
    "test = get_exp_val([1,2,3,4,5,6])\n",
    "print(test)"
   ]
  },
  {
   "cell_type": "code",
   "execution_count": null,
   "metadata": {},
   "outputs": [],
   "source": []
  }
 ],
 "metadata": {
  "kernelspec": {
   "display_name": "Python 3",
   "language": "python",
   "name": "python3"
  },
  "language_info": {
   "codemirror_mode": {
    "name": "ipython",
    "version": 3
   },
   "file_extension": ".py",
   "mimetype": "text/x-python",
   "name": "python",
   "nbconvert_exporter": "python",
   "pygments_lexer": "ipython3",
   "version": "3.7.3"
  }
 },
 "nbformat": 4,
 "nbformat_minor": 4
}
