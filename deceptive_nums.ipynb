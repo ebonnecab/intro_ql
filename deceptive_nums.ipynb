{
 "cells": [
  {
   "cell_type": "code",
   "execution_count": 2,
   "metadata": {},
   "outputs": [
    {
     "name": "stdout",
     "output_type": "stream",
     "text": [
      "496.951\n"
     ]
    }
   ],
   "source": [
    "'''\n",
    "airline E \n",
    "    - total\n",
    "        - 3775\n",
    "airline P\n",
    "    - total\n",
    "        - 7225\n",
    "        \n",
    "for each arrival calculate how many are on time and how many are delayed\n",
    "multiply percentage by number of arrivals\n",
    "'''\n",
    "\n",
    "print(559*.889)"
   ]
  },
  {
   "cell_type": "code",
   "execution_count": 14,
   "metadata": {},
   "outputs": [],
   "source": [
    "E = [(.889, 559), (.948, 233), (.914, 232), (83.1, 605), (.858, 2146)]\n",
    "P = [(.856, 811), (.921, 5255), (.855, 448), (.713, 449), (.767, 262)]\n",
    "\n",
    "def get_accuracy(ls):\n",
    "    on_time_arr = []\n",
    "    i = 0\n",
    "    accuracy = 0\n",
    "    total = 0\n",
    "    while i < len(ls)-1:\n",
    "        arr = ls[i][0] * ls[i][1]\n",
    "        on_time_arr.append(arr)\n",
    "        accuracy+= arr\n",
    "        total+=ls[i][1]\n",
    "        i+=1 \n",
    "    accuracy = accuracy/total\n",
    "    return accuracy, on_time_arr"
   ]
  },
  {
   "cell_type": "code",
   "execution_count": 15,
   "metadata": {},
   "outputs": [
    {
     "name": "stdout",
     "output_type": "stream",
     "text": [
      "(31.433629834254145, [496.951, 220.884, 212.048, 50275.5])\n",
      "(0.8957702139882235, [694.216, 4839.8550000000005, 383.03999999999996, 320.137])\n"
     ]
    }
   ],
   "source": [
    "print(get_accuracy(E))\n",
    "print(get_accuracy(P))"
   ]
  },
  {
   "cell_type": "code",
   "execution_count": null,
   "metadata": {},
   "outputs": [],
   "source": []
  }
 ],
 "metadata": {
  "kernelspec": {
   "display_name": "Python 3",
   "language": "python",
   "name": "python3"
  },
  "language_info": {
   "codemirror_mode": {
    "name": "ipython",
    "version": 3
   },
   "file_extension": ".py",
   "mimetype": "text/x-python",
   "name": "python",
   "nbconvert_exporter": "python",
   "pygments_lexer": "ipython3",
   "version": "3.7.3"
  }
 },
 "nbformat": 4,
 "nbformat_minor": 4
}
