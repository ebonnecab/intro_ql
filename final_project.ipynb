{
 "cells": [
  {
   "cell_type": "markdown",
   "metadata": {},
   "source": [
    "# Final Project"
   ]
  },
  {
   "cell_type": "code",
   "execution_count": 65,
   "metadata": {},
   "outputs": [
    {
     "data": {
      "text/plain": [
       "Text(0, 0.5, 'Water Drinks (Litre)')"
      ]
     },
     "execution_count": 65,
     "metadata": {},
     "output_type": "execute_result"
    },
    {
     "data": {
      "image/png": "[encoded data removed]",
      "text/plain": [
       "<Figure size 432x288 with 1 Axes>"
      ]
     },
     "metadata": {
      "needs_background": "light"
     },
     "output_type": "display_data"
    }
   ],
   "source": [
    "import numpy as np\n",
    "import matplotlib.pyplot as plt\n",
    "import seaborn as sns\n",
    "\n",
    "# Running Distance in Mile\n",
    "x = np.array([3.3,4.4,5.5,6.71,6.93,4.168,9.779,6.182,7.59,2.167,\n",
    "                         7.042,10.791,5.313,7.997,5.654,9.27,3.1])\n",
    "\n",
    "# Water Drinks in Litre\n",
    "y = np.array([1.7,2.76,2.09,3.19,1.694,1.573,3.366,2.596,2.53,1.221,\n",
    "                         2.827,3.465,1.65,2.904,2.42,2.94,1.3])\n",
    "\n",
    "plt.scatter(x, y)\n",
    "plt.xlabel('Running Distance (Mile)')\n",
    "plt.ylabel('Water Drinks (Litre)')"
   ]
  },
  {
   "cell_type": "code",
   "execution_count": 2,
   "metadata": {},
   "outputs": [
    {
     "name": "stdout",
     "output_type": "stream",
     "text": [
      "6.518593101764703\n",
      "0.15385767404191164\n"
     ]
    }
   ],
   "source": [
    "def min_sq_error(y, x, w1, w0):\n",
    "    y_pred = [w1*i + w0 for i in x]\n",
    "    sum_squared_error = sum([(i-j)**2 for i, j in zip(y_pred, y)])\n",
    "    N = len(y)\n",
    "    mse = sum_squared_error/N\n",
    "    return mse\n",
    "\n",
    "print(min_sq_error(y, x, 0.7, 0.3))\n",
    "print(min_sq_error(y, x, 0.25163494, 0.79880123))"
   ]
  },
  {
   "cell_type": "code",
   "execution_count": 95,
   "metadata": {},
   "outputs": [],
   "source": [
    "def slope_intercept_LR(x, y):\n",
    "    w0 = np.random.randn()\n",
    "    w1 = np.random.randn()\n",
    "   \n",
    "    learning_rate = 0.01\n",
    "    epoch = 5000\n",
    "    N = len(x)\n",
    "    \n",
    "    for _ in range(epoch):\n",
    "        diff = ((w1*x)+w0)-y\n",
    "        w1 -= learning_rate * (diff*x).sum() * 2/N\n",
    "        w0 -= learning_rate * diff.sum() * 2/N\n",
    "    \n",
    "\n",
    "    return w1, w0"
   ]
  },
  {
   "cell_type": "code",
   "execution_count": 96,
   "metadata": {},
   "outputs": [
    {
     "name": "stdout",
     "output_type": "stream",
     "text": [
      "(0.251635641925525, 0.798796280207819)\n"
     ]
    }
   ],
   "source": [
    "test = slope_intercept_LR(x, y)\n",
    "print(test)"
   ]
  },
  {
   "cell_type": "code",
   "execution_count": 97,
   "metadata": {},
   "outputs": [],
   "source": [
    "def get_mean_var_E(x, y, w1, w0):\n",
    "    y_pred = [w1*i + w0 for i in x]\n",
    "    E = [[i - j for i, j in zip(y_pred, y)]]\n",
    "    var = np.var(E)\n",
    "    mean_e = np.mean(E)\n",
    "    \n",
    "    return var, mean_e, E"
   ]
  },
  {
   "cell_type": "code",
   "execution_count": 98,
   "metadata": {},
   "outputs": [
    {
     "name": "stdout",
     "output_type": "stream",
     "text": [
      "(0.1538576740546662, 8.422929487870417e-07, [[-0.07080708329356322, -0.8540069666412669, 0.09279315001102884, -0.7027267216714459, 0.8486333016590137, 0.27461337239206673, -0.10645439621153985, -0.24159077766454784, 0.17871337165039103, 0.12308879655457194, -0.2561834137363892, 0.04920171110857208, 0.48573713018013853, -0.09287058518825919, -0.1984548336576495, 0.19146264071935226, 0.27886562276965576]])\n"
     ]
    }
   ],
   "source": [
    "errs = get_mean_var_E(x, y, slope_intercept_LR(x, y)[0], slope_intercept_LR(x, y)[1])\n",
    "print(errs)"
   ]
  },
  {
   "cell_type": "code",
   "execution_count": 100,
   "metadata": {},
   "outputs": [
    {
     "data": {
      "text/plain": [
       "<matplotlib.axes._subplots.AxesSubplot at 0x1a24818860>"
      ]
     },
     "execution_count": 100,
     "metadata": {},
     "output_type": "execute_result"
    },
    {
     "data": {
      "image/png": "[encoded data removed]",
      "text/plain": [
       "<Figure size 432x288 with 1 Axes>"
      ]
     },
     "metadata": {
      "needs_background": "light"
     },
     "output_type": "display_data"
    }
   ],
   "source": [
    "sns.distplot(errs[2], hist=True, kde=True, bins=4)"
   ]
  }
 ],
 "metadata": {
  "kernelspec": {
   "display_name": "Python 3",
   "language": "python",
   "name": "python3"
  },
  "language_info": {
   "codemirror_mode": {
    "name": "ipython",
    "version": 3
   },
   "file_extension": ".py",
   "mimetype": "text/x-python",
   "name": "python",
   "nbconvert_exporter": "python",
   "pygments_lexer": "ipython3",
   "version": "3.7.3"
  }
 },
 "nbformat": 4,
 "nbformat_minor": 4
}
