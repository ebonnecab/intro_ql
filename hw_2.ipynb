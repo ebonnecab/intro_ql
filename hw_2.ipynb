{
 "cells": [
  {
   "cell_type": "code",
   "execution_count": 178,
   "metadata": {},
   "outputs": [],
   "source": [
    "from random import choices\n",
    "\n",
    "\n",
    "def verify_head(trials, n):\n",
    "    events = ['H', 'T']\n",
    "    weights = [0.5, 0.5]\n",
    "    combos = [[['H'],['H'],['T']],[['H'],['T'],['H']],[['H'],['H'],['T']]]\n",
    "    count = 0\n",
    "\n",
    "    for i in range(trials):\n",
    "        outcomes = [choices(events, weights) for j in range(n)]\n",
    "        if outcomes in combos:\n",
    "            count+=1\n",
    "        \n",
    "    probs = (count/trials)/2\n",
    "    \n",
    "    return probs"
   ]
  },
  {
   "cell_type": "code",
   "execution_count": 179,
   "metadata": {},
   "outputs": [
    {
     "name": "stdout",
     "output_type": "stream",
     "text": [
      "0.11\n"
     ]
    }
   ],
   "source": [
    "test2 = verify_head(100, 3)\n",
    "print(test2)"
   ]
  },
  {
   "cell_type": "code",
   "execution_count": null,
   "metadata": {},
   "outputs": [],
   "source": []
  },
  {
   "cell_type": "code",
   "execution_count": null,
   "metadata": {},
   "outputs": [],
   "source": []
  }
 ],
 "metadata": {
  "kernelspec": {
   "display_name": "Python 3",
   "language": "python",
   "name": "python3"
  },
  "language_info": {
   "codemirror_mode": {
    "name": "ipython",
    "version": 3
   },
   "file_extension": ".py",
   "mimetype": "text/x-python",
   "name": "python",
   "nbconvert_exporter": "python",
   "pygments_lexer": "ipython3",
   "version": "3.7.3"
  }
 },
 "nbformat": 4,
 "nbformat_minor": 4
}
