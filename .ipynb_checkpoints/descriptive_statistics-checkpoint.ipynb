{
 "cells": [
  {
   "cell_type": "markdown",
   "metadata": {},
   "source": [
    "# Descriptive Stastitics"
   ]
  },
  {
   "cell_type": "code",
   "execution_count": 6,
   "metadata": {},
   "outputs": [],
   "source": [
    "import numpy as np\n",
    "import scipy.stats as sp\n",
    "import math"
   ]
  },
  {
   "cell_type": "markdown",
   "metadata": {},
   "source": [
    "## Measures of Central Tendency "
   ]
  },
  {
   "cell_type": "markdown",
   "metadata": {},
   "source": [
    "### Mean"
   ]
  },
  {
   "cell_type": "markdown",
   "metadata": {},
   "source": [
    "Compute the mean by adding the elements and dividing by the total number of elements"
   ]
  },
  {
   "cell_type": "code",
   "execution_count": 2,
   "metadata": {},
   "outputs": [],
   "source": [
    "#custom function to find the average of a given list"
   ]
  },
  {
   "cell_type": "code",
   "execution_count": 3,
   "metadata": {},
   "outputs": [],
   "source": [
    "def get_mean(dataset):\n",
    "    mean = sum(dataset)/len(dataset)\n",
    "    return mean"
   ]
  },
  {
   "cell_type": "code",
   "execution_count": 4,
   "metadata": {},
   "outputs": [
    {
     "name": "stdout",
     "output_type": "stream",
     "text": [
      "4.391304347826087\n"
     ]
    }
   ],
   "source": [
    "data = np.array([1, 3, 5, 2, 3, 7, 8, 4, 10, 0, 6, 7, 3, 0, 3, 0, 5, 7, 10, 1, 4, 9, 3])\n",
    "print(get_mean(data))"
   ]
  },
  {
   "cell_type": "code",
   "execution_count": 5,
   "metadata": {},
   "outputs": [],
   "source": [
    "#verify with numpy"
   ]
  },
  {
   "cell_type": "code",
   "execution_count": 6,
   "metadata": {},
   "outputs": [
    {
     "name": "stdout",
     "output_type": "stream",
     "text": [
      "4.391304347826087\n"
     ]
    }
   ],
   "source": [
    "print(np.mean(data))"
   ]
  },
  {
   "cell_type": "markdown",
   "metadata": {},
   "source": [
    "### Median"
   ]
  },
  {
   "cell_type": "markdown",
   "metadata": {},
   "source": [
    "The median is affected by whether there is an odd or even number of elements.\n",
    "Start by sorting the list.\n",
    "\n",
    "If the list is even, find the average of the two middle elements."
   ]
  },
  {
   "cell_type": "code",
   "execution_count": 7,
   "metadata": {},
   "outputs": [],
   "source": [
    "def get_median(dataset):\n",
    "    #sort list\n",
    "    sorted_lst = sorted(dataset)\n",
    "    \n",
    "    #count elements\n",
    "    count = len(sorted_lst)\n",
    "    \n",
    "    #check if the count is odd or even\n",
    "    #get middle element\n",
    "    if count < 1:\n",
    "        return\n",
    "    elif count % 2 == 0:\n",
    "        return (sorted_lst[int(count/2)] + sorted_lst[int(count/2) - 1])/2\n",
    "    else:\n",
    "        return sorted_lst[int((count-1)/2)]\n",
    "            "
   ]
  },
  {
   "cell_type": "code",
   "execution_count": 8,
   "metadata": {},
   "outputs": [
    {
     "name": "stdout",
     "output_type": "stream",
     "text": [
      "4\n",
      "4.5\n"
     ]
    }
   ],
   "source": [
    "test_lst = np.array([2,5,9,3,5,4])\n",
    "test = get_median(data)\n",
    "print(test)\n",
    "\n",
    "print(get_median(test_lst))"
   ]
  },
  {
   "cell_type": "code",
   "execution_count": 9,
   "metadata": {},
   "outputs": [
    {
     "name": "stdout",
     "output_type": "stream",
     "text": [
      "4.0\n",
      "4.5\n"
     ]
    }
   ],
   "source": [
    "print(np.median(data))\n",
    "\n",
    "print(np.median(test_lst))"
   ]
  },
  {
   "cell_type": "markdown",
   "metadata": {},
   "source": [
    "### Mode"
   ]
  },
  {
   "cell_type": "markdown",
   "metadata": {},
   "source": [
    "Find the element that occurs most frequently."
   ]
  },
  {
   "cell_type": "code",
   "execution_count": 10,
   "metadata": {},
   "outputs": [],
   "source": [
    "def create_histo(dataset):\n",
    "    #create a dictionary\n",
    "    histo = {}\n",
    "    #access list and create dict with value as freq \n",
    "    for i in dataset:\n",
    "        if i not in histo:\n",
    "            histo[i] = 1\n",
    "        else:\n",
    "            histo[i] +=1\n",
    "    return histo"
   ]
  },
  {
   "cell_type": "code",
   "execution_count": 11,
   "metadata": {},
   "outputs": [
    {
     "name": "stdout",
     "output_type": "stream",
     "text": [
      "{1: 2, 3: 5, 5: 2, 2: 1, 7: 3, 8: 1, 4: 2, 10: 2, 0: 3, 6: 1, 9: 1}\n"
     ]
    }
   ],
   "source": [
    "test = create_histo(data)\n",
    "print(test)"
   ]
  },
  {
   "cell_type": "code",
   "execution_count": 12,
   "metadata": {},
   "outputs": [],
   "source": [
    "#milad's solution\n",
    "def compute_mode(histo):\n",
    "    return (histo, max(histo, key = histo.get))"
   ]
  },
  {
   "cell_type": "code",
   "execution_count": 13,
   "metadata": {},
   "outputs": [],
   "source": [
    "#my brute force solution\n",
    "def get_mode(histogram):\n",
    "    modes = []\n",
    "    for key, val in histogram.items():\n",
    "        max_val = max(histogram.values())\n",
    "        if val == max_val:\n",
    "            modes.append(key)\n",
    "    return modes"
   ]
  },
  {
   "cell_type": "code",
   "execution_count": 14,
   "metadata": {},
   "outputs": [
    {
     "name": "stdout",
     "output_type": "stream",
     "text": [
      "[3]\n",
      "({1: 2, 3: 5, 5: 2, 2: 1, 7: 3, 8: 1, 4: 2, 10: 2, 0: 3, 6: 1, 9: 1}, 3)\n",
      "ModeResult(mode=array([3]), count=array([5]))\n"
     ]
    }
   ],
   "source": [
    "mode = get_mode(test)\n",
    "print(mode)\n",
    "\n",
    "print(compute_mode(test))\n",
    "\n",
    "print(sp.mode(data))"
   ]
  },
  {
   "cell_type": "markdown",
   "metadata": {},
   "source": [
    "## Measures of Spread"
   ]
  },
  {
   "cell_type": "markdown",
   "metadata": {},
   "source": [
    "- Range\n",
    "    - the difference between the largest and smallest element in lst\n",
    "- Variance\n",
    "    - how spread out the data is\n",
    "    - variation in the dataset\n",
    "    - Most of our data falls in range of mean - standard deviation or mean + standard deviation\n"
   ]
  },
  {
   "cell_type": "code",
   "execution_count": 15,
   "metadata": {},
   "outputs": [],
   "source": [
    "def get_range(data):\n",
    "    return max(data) - min(data)"
   ]
  },
  {
   "cell_type": "code",
   "execution_count": 16,
   "metadata": {},
   "outputs": [],
   "source": [
    "def compute_range(data):\n",
    "    sorted_data = sorted(data)\n",
    "    return sorted_data[-1] - sorted_data[0]"
   ]
  },
  {
   "cell_type": "code",
   "execution_count": 17,
   "metadata": {},
   "outputs": [
    {
     "name": "stdout",
     "output_type": "stream",
     "text": [
      "10\n",
      "10\n"
     ]
    }
   ],
   "source": [
    "print(get_range(data))\n",
    "print(compute_range(data))"
   ]
  },
  {
   "cell_type": "code",
   "execution_count": 51,
   "metadata": {},
   "outputs": [],
   "source": [
    "'''\n",
    "1. Get the mean\n",
    "1.5 access each element\n",
    "2. subtract the mean from element \n",
    "3. square the num\n",
    "4. add the nums up\n",
    "5. Divide the sum by the num of elements -1\n",
    "6 Get the square root of num\n",
    "7. return that number\n",
    "'''\n",
    "def get_stand_dev(dataset):\n",
    "    avg = np.mean(dataset)\n",
    "    num = sum([(i- avg)**2 for i in dataset])\n",
    "    st_d = np.sqrt(num/(len(dataset)-1))\n",
    "    return st_d"
   ]
  },
  {
   "cell_type": "code",
   "execution_count": 52,
   "metadata": {},
   "outputs": [
    {
     "name": "stdout",
     "output_type": "stream",
     "text": [
      "6.454972243679028\n"
     ]
    }
   ],
   "source": [
    "test = get_variance([5,10,15,20])\n",
    "print(test)"
   ]
  },
  {
   "cell_type": "code",
   "execution_count": 46,
   "metadata": {},
   "outputs": [
    {
     "name": "stdout",
     "output_type": "stream",
     "text": [
      "6.454972243679028\n"
     ]
    }
   ],
   "source": [
    "print(np.std([5, 10, 15, 20], ddof=1))"
   ]
  },
  {
   "cell_type": "code",
   "execution_count": 21,
   "metadata": {},
   "outputs": [],
   "source": [
    "#for two lists add the elements at that specific index\n",
    "def element_summation(lst_1, lst_2):\n",
    "    lst_3 = []\n",
    "    for i,j in zip(lst_1, lst_2):\n",
    "        lst_3.append(i + j)\n",
    "    return lst_3"
   ]
  },
  {
   "cell_type": "code",
   "execution_count": 22,
   "metadata": {},
   "outputs": [
    {
     "name": "stdout",
     "output_type": "stream",
     "text": [
      "[11, 17, 23]\n"
     ]
    }
   ],
   "source": [
    "a = [1 ,2, 3] \n",
    "b=[10, 15, 20]\n",
    "print(element_summation(a, b))"
   ]
  },
  {
   "cell_type": "code",
   "execution_count": 73,
   "metadata": {},
   "outputs": [
    {
     "data": {
      "text/plain": [
       "Text(0, 0.5, 'Water Drinks (Litre)')"
      ]
     },
     "execution_count": 73,
     "metadata": {},
     "output_type": "execute_result"
    },
    {
     "data": {
      "image/png": "[encoded data removed]",
      "text/plain": [
       "<Figure size 432x288 with 1 Axes>"
      ]
     },
     "metadata": {
      "needs_background": "light"
     },
     "output_type": "display_data"
    }
   ],
   "source": [
    "import numpy as np\n",
    "import matplotlib.pyplot as plt\n",
    "\n",
    "# Running Distance in Mile\n",
    "X = np.array([3.3,4.4,5.5,6.71,6.93,4.168,9.779,6.182,7.59,2.167,\n",
    "                         7.042,10.791,5.313,7.997,5.654,9.27,3.1])\n",
    "\n",
    "# Water Drinks in Litre\n",
    "Y = np.array([1.7,2.76,2.09,3.19,1.694,1.573,3.366,2.596,2.53,1.221,\n",
    "                         2.827,3.465,1.65,2.904,2.42,2.94,1.3])\n",
    "\n",
    "plt.scatter(X, Y)\n",
    "plt.plot(X, pred_y_vals, '-ro')\n",
    "plt.xlabel('Running Distance (Mile)')\n",
    "plt.ylabel('Water Drinks (Litre)')"
   ]
  },
  {
   "cell_type": "markdown",
   "metadata": {},
   "source": [
    "### Y Predictions"
   ]
  },
  {
   "cell_type": "code",
   "execution_count": 31,
   "metadata": {},
   "outputs": [],
   "source": [
    "#for any element in list X iterate through and multiply element with slope and add intercept\n",
    "\n",
    "def get_ypred(slope, intercept, X_lst):\n",
    "    y_pred =[]\n",
    "    for ele in X_lst:\n",
    "        pred = (ele * slope) + intercept\n",
    "        y_pred.append(pred)\n",
    "    return y_pred"
   ]
  },
  {
   "cell_type": "code",
   "execution_count": 72,
   "metadata": {},
   "outputs": [
    {
     "name": "stdout",
     "output_type": "stream",
     "text": [
      "[1.629196532, 1.905994966, 2.1827934, 2.4872716774, 2.5426313642, 1.84761565992, 3.25953930826, 2.3544084290800003, 2.7087104245999996, 1.34409414498, 2.57081447748, 3.51419386754, 2.13573766622, 2.81112584518, 2.2215451807599997, 3.1314571237999997, 1.578869544]\n"
     ]
    }
   ],
   "source": [
    "pred_y_vals = get_ypred(0.25163494, 0.79880123, X)\n",
    "print(pred_y_vals)"
   ]
  },
  {
   "cell_type": "markdown",
   "metadata": {},
   "source": [
    "### Error"
   ]
  },
  {
   "cell_type": "code",
   "execution_count": 74,
   "metadata": {},
   "outputs": [],
   "source": [
    "def get_error(y_pred_ls, y):\n",
    "    E = [(i-j) for i, j in zip(y_pred_ls, y)]\n",
    "    return E"
   ]
  },
  {
   "cell_type": "code",
   "execution_count": 75,
   "metadata": {},
   "outputs": [
    {
     "name": "stdout",
     "output_type": "stream",
     "text": [
      "[0.07080346800000004, 0.8540050339999998, -0.09279340000000014, 0.7027283226000001, -0.8486313642000001, -0.27461565992000003, 0.10646069174000017, 0.24159157091999983, -0.17871042459999975, -0.12309414497999982, 0.25618552252000004, -0.0491938675400001, -0.4857376662199999, 0.09287415482000005, 0.1984548192400002, -0.1914571237999998, -0.27886954399999997]\n"
     ]
    }
   ],
   "source": [
    "e = get_error(Y, pred_y_vals)\n",
    "print(e)"
   ]
  },
  {
   "cell_type": "markdown",
   "metadata": {},
   "source": [
    "### Variance"
   ]
  },
  {
   "cell_type": "code",
   "execution_count": 4,
   "metadata": {},
   "outputs": [],
   "source": [
    "def get_variance(dataset):\n",
    "    avg = np.mean(dataset)\n",
    "    num = sum([(i- avg)**2 for i in dataset])\n",
    "    variance = num/(len(dataset)-1)\n",
    "    return variance"
   ]
  },
  {
   "cell_type": "code",
   "execution_count": 77,
   "metadata": {},
   "outputs": [
    {
     "name": "stdout",
     "output_type": "stream",
     "text": [
      "0.16347377866953056\n"
     ]
    }
   ],
   "source": [
    "var_e = np.var(e, ddof=1)\n",
    "print(var_e)"
   ]
  },
  {
   "cell_type": "code",
   "execution_count": 78,
   "metadata": {},
   "outputs": [
    {
     "name": "stdout",
     "output_type": "stream",
     "text": [
      "0.16347377866953056\n"
     ]
    }
   ],
   "source": [
    "vari_e = get_variance(e)\n",
    "print(vari_e)"
   ]
  },
  {
   "cell_type": "markdown",
   "metadata": {},
   "source": [
    "### Mean Squared Error"
   ]
  },
  {
   "cell_type": "code",
   "execution_count": 81,
   "metadata": {},
   "outputs": [],
   "source": [
    "#change slope and intercept to adjust mse\n",
    "#for element in list, get squared val, add them and divide over len(lst)\n",
    "\n",
    "def get_mse(e_lst):\n",
    "    mse = sum([ele**2 for ele in e_lst])/len(e_lst) \n",
    "    return mse"
   ]
  },
  {
   "cell_type": "code",
   "execution_count": 80,
   "metadata": {},
   "outputs": [
    {
     "name": "stdout",
     "output_type": "stream",
     "text": [
      "0.15385767404191164\n"
     ]
    }
   ],
   "source": [
    "mse_e = get_mse(e)\n",
    "print(mse_e)"
   ]
  },
  {
   "cell_type": "markdown",
   "metadata": {},
   "source": [
    "### Percentile"
   ]
  },
  {
   "cell_type": "markdown",
   "metadata": {},
   "source": [
    "The value **below** which a percentage of the data falls.\n",
    "1. Arrange the data in ascending order\n",
    "2. Find the index of the ordinal rank of the percentile by getting index=ceiling((percent/100)*len(data))\n",
    "3. Find the value at that index"
   ]
  },
  {
   "cell_type": "code",
   "execution_count": 154,
   "metadata": {},
   "outputs": [],
   "source": [
    "def get_percentile(dataset, percentile):\n",
    "    sorted_data = sorted(dataset)\n",
    "    print(sorted_data)\n",
    "    index = (percentile/100)*len(dataset)\n",
    "    index = int(math.ceil(index))\n",
    "    return dataset[index-1]"
   ]
  },
  {
   "cell_type": "code",
   "execution_count": 158,
   "metadata": {},
   "outputs": [
    {
     "name": "stdout",
     "output_type": "stream",
     "text": [
      "[0, 0, 0, 1, 1, 2, 3, 3, 3, 3, 3, 4, 4, 5, 5, 6, 7, 7, 7, 8, 9, 10, 10]\n",
      "8\n"
     ]
    }
   ],
   "source": [
    "test_data = np.array([1, 3, 5, 2, 3, 7, 8, 4, 10, 0, 6, 7, 3, 0, 3, 0, 5, 7, 10, 1, 4, 9, 3])\n",
    "print(get_percentile(test_data, 30))"
   ]
  },
  {
   "cell_type": "code",
   "execution_count": 160,
   "metadata": {},
   "outputs": [
    {
     "name": "stdout",
     "output_type": "stream",
     "text": [
      "3\n"
     ]
    }
   ],
   "source": [
    "print(int(np.percentile(test_data, 30)))"
   ]
  },
  {
   "cell_type": "code",
   "execution_count": 2,
   "metadata": {},
   "outputs": [],
   "source": [
    "#avg male age = 32.09\n",
    "#population = 69\n",
    "\n",
    "#avg female age = 28.34\n",
    "#population = 61\n",
    "\n",
    "#total population = 130"
   ]
  },
  {
   "cell_type": "code",
   "execution_count": 163,
   "metadata": {},
   "outputs": [
    {
     "name": "stdout",
     "output_type": "stream",
     "text": [
      "30.808076923076925\n"
     ]
    }
   ],
   "source": [
    "a = (69 * 32.99 + 61 * 28.34)/(61+69)\n",
    "print(a)"
   ]
  },
  {
   "cell_type": "markdown",
   "metadata": {},
   "source": [
    "## Covariance and Correlation"
   ]
  },
  {
   "cell_type": "markdown",
   "metadata": {},
   "source": [
    "### Covariance"
   ]
  },
  {
   "cell_type": "markdown",
   "metadata": {},
   "source": [
    "How two variables **change** or vary together. A positive covariance denotes a positive relationship between variables.\n",
    "- \n",
    "- cov(X,Y) = 1/n-1 * (sum(x[i] - avg(x)(y[i] - avg(x)) \n",
    "- covariance is symmetrical\n",
    "    - cov(X, Y) = cov(Y, X)\n",
    "- Covariance between a variable and itself such as (x, x) is variance(x)\n",
    "- Can use matrix to display covariance\n",
    "  -  X   Y   Z\n",
    "  \n",
    "    X\n",
    "    \n",
    "    Y\n",
    "    \n",
    "    Z"
   ]
  },
  {
   "cell_type": "code",
   "execution_count": 7,
   "metadata": {},
   "outputs": [
    {
     "name": "stdout",
     "output_type": "stream",
     "text": [
      "0.9166666666666666\n"
     ]
    }
   ],
   "source": [
    "z = [1, 1, 2, 3]\n",
    "var = get_variance(z)\n",
    "print(var)"
   ]
  },
  {
   "cell_type": "markdown",
   "metadata": {},
   "source": [
    "### Correlation"
   ]
  },
  {
   "cell_type": "markdown",
   "metadata": {},
   "source": [
    "Correlation tests relationships between quantitative variables.\n",
    "- An upwards trend between two variables indicate a positive relationship\n",
    "- -1 <= r <= 1\n",
    "- a high value with one variable vs low value with another variable indicate a negative relationship\n",
    "- random values that show no clear pattern indicate no correlation\n",
    "- correlation between an item and itself is usually 1"
   ]
  },
  {
   "cell_type": "code",
   "execution_count": null,
   "metadata": {},
   "outputs": [],
   "source": []
  }
 ],
 "metadata": {
  "kernelspec": {
   "display_name": "Python 3",
   "language": "python",
   "name": "python3"
  },
  "language_info": {
   "codemirror_mode": {
    "name": "ipython",
    "version": 3
   },
   "file_extension": ".py",
   "mimetype": "text/x-python",
   "name": "python",
   "nbconvert_exporter": "python",
   "pygments_lexer": "ipython3",
   "version": "3.7.3"
  }
 },
 "nbformat": 4,
 "nbformat_minor": 4
}
