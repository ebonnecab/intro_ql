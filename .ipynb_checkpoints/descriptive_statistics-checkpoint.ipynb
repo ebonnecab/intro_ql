{
 "cells": [
  {
   "cell_type": "markdown",
   "metadata": {},
   "source": [
    "# Descriptive Stastitics"
   ]
  },
  {
   "cell_type": "code",
   "execution_count": 56,
   "metadata": {},
   "outputs": [],
   "source": [
    "import numpy as np\n",
    "import scipy.stats as sp"
   ]
  },
  {
   "cell_type": "markdown",
   "metadata": {},
   "source": [
    "## Measures of Central Tendency "
   ]
  },
  {
   "cell_type": "markdown",
   "metadata": {},
   "source": [
    "### Mean"
   ]
  },
  {
   "cell_type": "markdown",
   "metadata": {},
   "source": [
    "Compute the mean by adding the elements and dividing by the total number of elements"
   ]
  },
  {
   "cell_type": "code",
   "execution_count": 8,
   "metadata": {},
   "outputs": [],
   "source": [
    "#custom function to find the average of a given list"
   ]
  },
  {
   "cell_type": "code",
   "execution_count": 12,
   "metadata": {},
   "outputs": [],
   "source": [
    "def get_mean(dataset):\n",
    "    mean = sum(dataset)/len(dataset)\n",
    "    return mean"
   ]
  },
  {
   "cell_type": "code",
   "execution_count": 13,
   "metadata": {},
   "outputs": [
    {
     "name": "stdout",
     "output_type": "stream",
     "text": [
      "4.391304347826087\n"
     ]
    }
   ],
   "source": [
    "data = np.array([1, 3, 5, 2, 3, 7, 8, 4, 10, 0, 6, 7, 3, 0, 3, 0, 5, 7, 10, 1, 4, 9, 3])\n",
    "print(get_mean(data))"
   ]
  },
  {
   "cell_type": "code",
   "execution_count": 14,
   "metadata": {},
   "outputs": [],
   "source": [
    "#verify with numpy"
   ]
  },
  {
   "cell_type": "code",
   "execution_count": 15,
   "metadata": {},
   "outputs": [
    {
     "name": "stdout",
     "output_type": "stream",
     "text": [
      "4.391304347826087\n"
     ]
    }
   ],
   "source": [
    "print(np.mean(data))"
   ]
  },
  {
   "cell_type": "markdown",
   "metadata": {},
   "source": [
    "### Median"
   ]
  },
  {
   "cell_type": "markdown",
   "metadata": {},
   "source": [
    "The median is affected by whether there is an odd or even number of elements.\n",
    "Start by sorting the list.\n",
    "\n",
    "If the list is even, find the average of the two middle elements."
   ]
  },
  {
   "cell_type": "code",
   "execution_count": 39,
   "metadata": {},
   "outputs": [],
   "source": [
    "def get_median(dataset):\n",
    "    #sort list\n",
    "    sorted_lst = sorted(dataset)\n",
    "    \n",
    "    #count elements\n",
    "    count = len(sorted_lst)\n",
    "    \n",
    "    #check if the count is odd or even\n",
    "    #get middle element\n",
    "    if count < 1:\n",
    "        return\n",
    "    elif count % 2 == 0:\n",
    "        return (sorted_lst[int(count/2)] + sorted_lst[int(count/2) - 1])/2\n",
    "    else:\n",
    "        return sorted_lst[int((count-1)/2)]\n",
    "            "
   ]
  },
  {
   "cell_type": "code",
   "execution_count": 40,
   "metadata": {},
   "outputs": [
    {
     "name": "stdout",
     "output_type": "stream",
     "text": [
      "4\n",
      "4.5\n"
     ]
    }
   ],
   "source": [
    "test_lst = np.array([2,5,9,3,5,4])\n",
    "test = get_median(data)\n",
    "print(test)\n",
    "\n",
    "print(get_median(test_lst))"
   ]
  },
  {
   "cell_type": "code",
   "execution_count": 42,
   "metadata": {},
   "outputs": [
    {
     "name": "stdout",
     "output_type": "stream",
     "text": [
      "4.0\n",
      "4.5\n"
     ]
    }
   ],
   "source": [
    "print(np.median(data))\n",
    "\n",
    "print(np.median(test_lst))"
   ]
  },
  {
   "cell_type": "markdown",
   "metadata": {},
   "source": [
    "### Mode"
   ]
  },
  {
   "cell_type": "markdown",
   "metadata": {},
   "source": [
    "Find the element that occurs most frequently."
   ]
  },
  {
   "cell_type": "code",
   "execution_count": 58,
   "metadata": {},
   "outputs": [],
   "source": [
    "def create_histo(dataset):\n",
    "    #create a dictionary\n",
    "    histo = {}\n",
    "    #access list and create dict with value as freq \n",
    "    for i in dataset:\n",
    "        if i not in histo:\n",
    "            histo[i] = 1\n",
    "        else:\n",
    "            histo[i] +=1\n",
    "    return histo"
   ]
  },
  {
   "cell_type": "code",
   "execution_count": 59,
   "metadata": {},
   "outputs": [
    {
     "name": "stdout",
     "output_type": "stream",
     "text": [
      "{1: 2, 3: 5, 5: 2, 2: 1, 7: 3, 8: 1, 4: 2, 10: 2, 0: 3, 6: 1, 9: 1}\n"
     ]
    }
   ],
   "source": [
    "test = create_histo(data)\n",
    "print(test)"
   ]
  },
  {
   "cell_type": "code",
   "execution_count": 62,
   "metadata": {},
   "outputs": [],
   "source": [
    "#milad's solution\n",
    "def compute_mode(histo):\n",
    "    return (histo, max(histo, key = histo.get))"
   ]
  },
  {
   "cell_type": "code",
   "execution_count": 89,
   "metadata": {},
   "outputs": [],
   "source": [
    "#my brute force solution\n",
    "def get_mode(histogram):\n",
    "    modes = []\n",
    "    for key, val in histogram.items():\n",
    "        max_val = max(histogram.values())\n",
    "        if val == max_val:\n",
    "            modes.append(key)\n",
    "    return modes"
   ]
  },
  {
   "cell_type": "code",
   "execution_count": 88,
   "metadata": {},
   "outputs": [
    {
     "name": "stdout",
     "output_type": "stream",
     "text": [
      "[3]\n",
      "({1: 2, 3: 5, 5: 2, 2: 1, 7: 3, 8: 1, 4: 2, 10: 2, 0: 3, 6: 1, 9: 1}, 3)\n",
      "ModeResult(mode=array([3]), count=array([5]))\n"
     ]
    }
   ],
   "source": [
    "mode = get_mode(test)\n",
    "print(mode)\n",
    "\n",
    "print(compute_mode(test))\n",
    "\n",
    "print(sp.mode(data))"
   ]
  },
  {
   "cell_type": "markdown",
   "metadata": {},
   "source": [
    "## Measures of Spread"
   ]
  },
  {
   "cell_type": "markdown",
   "metadata": {},
   "source": [
    "- Range\n",
    "    - the difference between the largest and smallest element in lst\n",
    "- Variance\n",
    "    - how spread out the data is\n"
   ]
  },
  {
   "cell_type": "code",
   "execution_count": 90,
   "metadata": {},
   "outputs": [],
   "source": [
    "def get_range(data):\n",
    "    return max(data) - min(data)"
   ]
  },
  {
   "cell_type": "code",
   "execution_count": 92,
   "metadata": {},
   "outputs": [],
   "source": [
    "def compute_range(data):\n",
    "    sorted_data = sorted(data)\n",
    "    return sorted_data[-1] - sorted_data[0]"
   ]
  },
  {
   "cell_type": "code",
   "execution_count": 94,
   "metadata": {},
   "outputs": [
    {
     "name": "stdout",
     "output_type": "stream",
     "text": [
      "10\n",
      "10\n"
     ]
    }
   ],
   "source": [
    "print(get_range(data))\n",
    "print(compute_range(data))"
   ]
  },
  {
   "cell_type": "code",
   "execution_count": 129,
   "metadata": {},
   "outputs": [],
   "source": [
    "'''\n",
    "1. Get the mean\n",
    "1.5 access each element\n",
    "2. subtract the mean from element \n",
    "3. square the num\n",
    "4. add the nums up\n",
    "5. Divide the sum by the num of elements -1\n",
    "6 Get the square root of num\n",
    "7. return that number\n",
    "'''\n",
    "\n",
    "def get_variance(dataset):\n",
    "    avg = np.mean(dataset)\n",
    "    num = sum([(i- avg)**2 for i in dataset])\n",
    "    st_d = np.sqrt(num/(len(dataset)-1))\n",
    "    return st_d"
   ]
  },
  {
   "cell_type": "code",
   "execution_count": 130,
   "metadata": {},
   "outputs": [
    {
     "name": "stdout",
     "output_type": "stream",
     "text": [
      "6.454972243679028\n"
     ]
    }
   ],
   "source": [
    "test = get_variance([5,10,15,20])\n",
    "print(test)"
   ]
  },
  {
   "cell_type": "code",
   "execution_count": 128,
   "metadata": {},
   "outputs": [],
   "source": [
    "#for two lists add the elements at that specific index\n",
    "def element_summation(lst_1, lst_2):\n",
    "    lst_3 = []\n",
    "    for i,j in zip(lst_1, lst_2):\n",
    "        lst_3.append(i + j)\n",
    "    return lst_3"
   ]
  },
  {
   "cell_type": "code",
   "execution_count": 127,
   "metadata": {},
   "outputs": [
    {
     "name": "stdout",
     "output_type": "stream",
     "text": [
      "[11, 17, 23]\n"
     ]
    }
   ],
   "source": [
    "a = [1 ,2, 3] \n",
    "b=[10, 15, 20]\n",
    "print(element_summation(a, b))"
   ]
  },
  {
   "cell_type": "code",
   "execution_count": null,
   "metadata": {},
   "outputs": [],
   "source": []
  }
 ],
 "metadata": {
  "kernelspec": {
   "display_name": "Python 3",
   "language": "python",
   "name": "python3"
  },
  "language_info": {
   "codemirror_mode": {
    "name": "ipython",
    "version": 3
   },
   "file_extension": ".py",
   "mimetype": "text/x-python",
   "name": "python",
   "nbconvert_exporter": "python",
   "pygments_lexer": "ipython3",
   "version": "3.7.3"
  }
 },
 "nbformat": 4,
 "nbformat_minor": 4
}
