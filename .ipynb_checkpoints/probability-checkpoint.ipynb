{
 "cells": [
  {
   "cell_type": "markdown",
   "metadata": {},
   "source": [
    "# Probability"
   ]
  },
  {
   "cell_type": "markdown",
   "metadata": {},
   "source": [
    "Probability is about computing the *chance* of an event happening.\n",
    "- **Formula** \n",
    "    - P(A) = countofA/samplespace\n",
    "        - P(A) = the probability of event A occuring in a set of observed events in the samplespace\n",
    "        - countofA = how many times A occured\n",
    "        - samplespace = total number of trials\n",
    "    - P(B) = 1 - P(A)\n",
    "    - To answer a boolean question\n",
    "        - P(A=True) = countofTrue/len(dataset)\n",
    "        - P(A=True|if another condition is already met)\n",
    "            - First filter data based off condition\n",
    "            - Count number of T in filtered dataset\n",
    "            - divide by length of filtered dataset\n",
    "- **Baye's Rule**\n",
    "    - P(A,B) = P(B|A) * P(A) simplifies to P(B) * P(A)\n",
    "- **Law of Total Probability**\n",
    "    - All probabilities added up\n",
    "- **Independent Events**\n",
    "    - P(first trial = A, second trial = B, third trial = T)\n",
    "        - multiply each independent probability by the other\n",
    "        - When there is no dependency of trial outcomes\n",
    "- **Dependent Events**\n",
    "    - use same formula as above but the logic is a bit different\n",
    "    - Baiyes Rule\n",
    "        - probability of event b **given** a x the probability of a\n",
    "        - which means the event b is affected or determined by given probability of event a and then multiplied by probability of event a\n",
    "    - when you want the probability of event b when the outcome of event a is not known you add up all possibile probabilitiies"
   ]
  },
  {
   "cell_type": "code",
   "execution_count": 2,
   "metadata": {},
   "outputs": [],
   "source": [
    "def get_probability(event_outcomes, sample_space):\n",
    "    probability = (event_outcomes/sample_space)* 100\n",
    "    return probability"
   ]
  },
  {
   "cell_type": "code",
   "execution_count": 4,
   "metadata": {},
   "outputs": [],
   "source": [
    "def independent_probability(num_trials, outcome_a, outcome_b):\n",
    "    probability_a = get_probability(outcome_a)\n",
    "    probability_b = get_probability(outcome_b)\n",
    "    indi_probability = probability_a * probability_b\n",
    "    return indi_probability"
   ]
  },
  {
   "cell_type": "code",
   "execution_count": null,
   "metadata": {},
   "outputs": [],
   "source": []
  }
 ],
 "metadata": {
  "kernelspec": {
   "display_name": "Python 3",
   "language": "python",
   "name": "python3"
  },
  "language_info": {
   "codemirror_mode": {
    "name": "ipython",
    "version": 3
   },
   "file_extension": ".py",
   "mimetype": "text/x-python",
   "name": "python",
   "nbconvert_exporter": "python",
   "pygments_lexer": "ipython3",
   "version": "3.7.3"
  }
 },
 "nbformat": 4,
 "nbformat_minor": 4
}
